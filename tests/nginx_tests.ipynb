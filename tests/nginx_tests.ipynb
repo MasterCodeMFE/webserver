{
 "cells": [
  {
   "cell_type": "code",
   "execution_count": null,
   "metadata": {},
   "outputs": [],
   "source": [
    "import http.client"
   ]
  },
  {
   "cell_type": "code",
   "execution_count": null,
   "metadata": {},
   "outputs": [],
   "source": [
    "def test_request(ip, port, method, path, host=None):\n",
    "    # Crear una conexión HTTP\n",
    "    connection = http.client.HTTPConnection(ip, port)\n",
    "    \n",
    "    # Habilitar el nivel de depuración para ver la solicitud HTTP\n",
    "    connection.set_debuglevel(2)\n",
    "    \n",
    "    # Establecer los encabezados\n",
    "    headers = {}\n",
    "    if host:\n",
    "        headers['Host'] = host\n",
    "    \n",
    "    # Hacer la solicitud HTTP\n",
    "    connection.request(method, path, headers=headers)\n",
    "    \n",
    "    # Obtener la respuesta\n",
    "    response = connection.getresponse()\n",
    "    \n",
    "    # Leer y devolver el contenido de la respuesta\n",
    "    response_content = response.read().decode()\n",
    "    \n",
    "    # Cerrar la conexión\n",
    "    connection.close()\n",
    "    \n",
    "    print(response_content)\n"
   ]
  },
  {
   "cell_type": "code",
   "execution_count": null,
   "metadata": {},
   "outputs": [],
   "source": [
    "test_request(\"10.12.210.63\", 8080, \"GET\", \"/\", \"not\")\n",
    "print(\"---------------------------------------------------\")\n",
    "test_request(\"10.12.210.63\", 8080, \"GET\", \"/\", \"not\")\n",
    "print(\"---------------------------------------------------\")\n",
    "test_request(\"10.12.210.63\", 8080, \"GET\", \"/\", \"not\")\n",
    "print(\"---------------------------------------------------\")\n",
    "test_request(\"10.12.210.63\", 8080, \"GET\", \"/\", \"not\")\n",
    "print(\"---------------------------------------------------\")"
   ]
  },
  {
   "cell_type": "code",
   "execution_count": null,
   "metadata": {
    "vscode": {
     "languageId": "shellscript"
    }
   },
   "outputs": [],
   "source": [
    "%%bash\n",
    "ADDR=127.0.1.2\n",
    "PORT=8080\n",
    "METHOD=DELETE\n",
    "URI=\"/\"\n",
    "HOST=\"PABLITO.COM\"\n",
    "DATA=\"test\"\n",
    "\n",
    "cat << EOF | tee /dev/stderr | nc -v ${ADDR} ${PORT}\n",
    "${METHOD} ${URI} HTTP/1.1\n",
    "Host: ${HOST}\n",
    "Content-Type: application/x-www-form-urlencoded\n",
    "Content-Length: 13\n",
    "Connection: close\n",
    "\n",
    "name=John&age=30\n",
    "EOF"
   ]
  },
  {
   "cell_type": "code",
   "execution_count": null,
   "metadata": {
    "vscode": {
     "languageId": "shellscript"
    }
   },
   "outputs": [],
   "source": []
  },
  {
   "cell_type": "code",
   "execution_count": null,
   "metadata": {
    "vscode": {
     "languageId": "shellscript"
    }
   },
   "outputs": [],
   "source": []
  }
 ],
 "metadata": {
  "kernelspec": {
   "display_name": ".venv",
   "language": "python",
   "name": "python3"
  },
  "language_info": {
   "codemirror_mode": {
    "name": "ipython",
    "version": 3
   },
   "file_extension": ".py",
   "mimetype": "text/x-python",
   "name": "python",
   "nbconvert_exporter": "python",
   "pygments_lexer": "ipython3",
   "version": "3.10.12"
  }
 },
 "nbformat": 4,
 "nbformat_minor": 2
}
