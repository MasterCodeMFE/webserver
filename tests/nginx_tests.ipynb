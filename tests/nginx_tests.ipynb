{
 "cells": [
  {
   "cell_type": "code",
   "execution_count": 2,
   "metadata": {},
   "outputs": [],
   "source": [
    "import http.client"
   ]
  },
  {
   "cell_type": "code",
   "execution_count": 8,
   "metadata": {},
   "outputs": [],
   "source": [
    "def test_request(ip, port, method, path, host):\n",
    "    # Crear una conexión HTTP\n",
    "    connection = http.client.HTTPConnection(ip, port)\n",
    "    \n",
    "    # Habilitar el nivel de depuración para ver la solicitud HTTP\n",
    "    connection.set_debuglevel(1)\n",
    "    \n",
    "    # Establecer los encabezados\n",
    "    headers = {'Host': host}\n",
    "    \n",
    "    # Hacer la solicitud HTTP\n",
    "    connection.request(method, path, headers=headers)\n",
    "    \n",
    "    # Obtener la respuesta\n",
    "    response = connection.getresponse()\n",
    "    \n",
    "    # Leer y devolver el contenido de la respuesta\n",
    "    response_content = response.read().decode()\n",
    "    \n",
    "    # Cerrar la conexión\n",
    "    connection.close()\n",
    "    \n",
    "    return response_content\n"
   ]
  },
  {
   "cell_type": "code",
   "execution_count": 10,
   "metadata": {},
   "outputs": [
    {
     "name": "stdout",
     "output_type": "stream",
     "text": [
      "send: b'GET / HTTP/1.1\\r\\nAccept-Encoding: identity\\r\\nHost: not\\r\\n\\r\\n'\n",
      "reply: 'HTTP/1.1 200 OK\\r\\n'\n",
      "header: Server: nginx/1.22.1\n",
      "header: Date: Wed, 12 Feb 2025 18:30:31 GMT\n",
      "header: Content-Type: text/html\n",
      "header: Content-Length: 10\n",
      "header: Last-Modified: Tue, 11 Feb 2025 10:54:51 GMT\n",
      "header: Connection: keep-alive\n",
      "header: ETag: \"67ab2c7b-a\"\n",
      "header: Accept-Ranges: bytes\n",
      "---------------------------------------------------\n",
      "send: b'GET / HTTP/1.1\\r\\nAccept-Encoding: identity\\r\\nHost: not\\r\\n\\r\\n'\n",
      "reply: 'HTTP/1.1 200 OK\\r\\n'\n",
      "header: Server: nginx/1.22.1\n",
      "header: Date: Wed, 12 Feb 2025 18:30:31 GMT\n",
      "header: Content-Type: text/html\n",
      "header: Content-Length: 10\n",
      "header: Last-Modified: Tue, 11 Feb 2025 10:54:51 GMT\n",
      "header: Connection: keep-alive\n",
      "header: ETag: \"67ab2c7b-a\"\n",
      "header: Accept-Ranges: bytes\n",
      "---------------------------------------------------\n",
      "send: b'GET / HTTP/1.1\\r\\nAccept-Encoding: identity\\r\\nHost: not\\r\\n\\r\\n'\n",
      "reply: 'HTTP/1.1 200 OK\\r\\n'\n",
      "header: Server: nginx/1.22.1\n",
      "header: Date: Wed, 12 Feb 2025 18:30:31 GMT\n",
      "header: Content-Type: text/html\n",
      "header: Content-Length: 10\n",
      "header: Last-Modified: Tue, 11 Feb 2025 10:54:51 GMT\n",
      "header: Connection: keep-alive\n",
      "header: ETag: \"67ab2c7b-a\"\n",
      "header: Accept-Ranges: bytes\n",
      "---------------------------------------------------\n",
      "send: b'GET / HTTP/1.1\\r\\nAccept-Encoding: identity\\r\\nHost: not\\r\\n\\r\\n'\n",
      "reply: 'HTTP/1.1 200 OK\\r\\n'\n",
      "header: Server: nginx/1.22.1\n",
      "header: Date: Wed, 12 Feb 2025 18:30:31 GMT\n",
      "header: Content-Type: text/html\n",
      "header: Content-Length: 10\n",
      "header: Last-Modified: Tue, 11 Feb 2025 10:54:51 GMT\n",
      "header: Connection: keep-alive\n",
      "header: ETag: \"67ab2c7b-a\"\n",
      "header: Accept-Ranges: bytes\n",
      "---------------------------------------------------\n"
     ]
    }
   ],
   "source": [
    "test_request(\"10.12.210.63\", 8080, \"GET\", \"/\", \"not\")\n",
    "print(\"---------------------------------------------------\")\n",
    "test_request(\"10.12.210.63\", 8080, \"GET\", \"/\", \"not\")\n",
    "print(\"---------------------------------------------------\")\n",
    "test_request(\"10.12.210.63\", 8080, \"GET\", \"/\", \"not\")\n",
    "print(\"---------------------------------------------------\")\n",
    "test_request(\"10.12.210.63\", 8080, \"GET\", \"/\", \"not\")\n",
    "print(\"---------------------------------------------------\")"
   ]
  },
  {
   "cell_type": "code",
   "execution_count": null,
   "metadata": {},
   "outputs": [],
   "source": []
  }
 ],
 "metadata": {
  "kernelspec": {
   "display_name": "Python 3 (ipykernel)",
   "language": "python",
   "name": "python3"
  },
  "language_info": {
   "codemirror_mode": {
    "name": "ipython",
    "version": 3
   },
   "file_extension": ".py",
   "mimetype": "text/x-python",
   "name": "python",
   "nbconvert_exporter": "python",
   "pygments_lexer": "ipython3",
   "version": "3.10.12"
  }
 },
 "nbformat": 4,
 "nbformat_minor": 2
}
